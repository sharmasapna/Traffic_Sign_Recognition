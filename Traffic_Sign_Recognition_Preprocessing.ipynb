{
  "nbformat": 4,
  "nbformat_minor": 0,
  "metadata": {
    "colab": {
      "name": "Traffic_Sign_Recognition_Preprocessing.ipynb",
      "provenance": [],
      "collapsed_sections": []
    },
    "kernelspec": {
      "name": "python3",
      "display_name": "Python 3"
    },
    "language_info": {
      "name": "python"
    },
    "accelerator": "GPU"
  },
  "cells": [
    {
      "cell_type": "code",
      "metadata": {
        "colab": {
          "base_uri": "https://localhost:8080/"
        },
        "id": "vQZUnqkT3pfk",
        "outputId": "916bd06e-da7c-48b6-9fa2-f8fc2b83610a"
      },
      "source": [
        "from google.colab import drive\n",
        "drive.mount('/content/drive',force_remount = True)"
      ],
      "execution_count": 1,
      "outputs": [
        {
          "output_type": "stream",
          "name": "stdout",
          "text": [
            "Mounted at /content/drive\n"
          ]
        }
      ]
    },
    {
      "cell_type": "code",
      "metadata": {
        "id": "Tv_cU27Eezvn"
      },
      "source": [
        "#drive.flush_and_unmount()"
      ],
      "execution_count": 2,
      "outputs": []
    },
    {
      "cell_type": "code",
      "metadata": {
        "id": "0SUNHNxt4Iip"
      },
      "source": [
        "import numpy as np\n",
        "import os\n"
      ],
      "execution_count": 10,
      "outputs": []
    },
    {
      "cell_type": "code",
      "metadata": {
        "id": "ZyNnYQl64kXo"
      },
      "source": [
        "data_dir = \"/content/drive/MyDrive/Traffic_Sign_Recognition/data_traffic_sign\"\n",
        "train_path = '/content/drive/MyDrive/Traffic_Sign_Recognition/data_traffic_sign/Train'\n",
        "test_path = '/content/drive/MyDrive/Traffic_Sign_Recognition/data_traffic_sign/Test'\n",
        "\n"
      ],
      "execution_count": 11,
      "outputs": []
    },
    {
      "cell_type": "markdown",
      "metadata": {
        "id": "zjWs2W0qw8_j"
      },
      "source": [
        "## Combining all images and saving it as a numpy array\n",
        " Code to combine all the training images and return a numpy array of the images and a numpy array of the labels. Since it is takes almost 2 hours to process this, we have saved the file for future use."
      ]
    },
    {
      "cell_type": "code",
      "metadata": {
        "colab": {
          "base_uri": "https://localhost:8080/"
        },
        "id": "gBcirmTz4kIN",
        "outputId": "20352ad6-c9a5-4a1d-a233-38e43db0ddae"
      },
      "source": [
        "%%time\n",
        "train_path = '/content/drive/MyDrive/Traffic_Sign_Recognition/data_traffic_sign/Train'\n",
        "def get_train_data(train_path):\n",
        "  # Resizing the images to 30x30x3\n",
        "  IMG_HEIGHT = 30\n",
        "  IMG_WIDTH = 30\n",
        "  channels = 3\n",
        "\n",
        "  image_data = []\n",
        "  image_labels = []\n",
        "  \n",
        "  NUM_CATEGORIES = len(os.listdir(train_path))\n",
        "\n",
        "  for i in range(NUM_CATEGORIES):\n",
        "      path = data_dir + '/Train/' + str(i)\n",
        "      print('Images from folder ',i, 'processing')\n",
        "      images = os.listdir(path)\n",
        "\n",
        "      for img in images:\n",
        "          try:\n",
        "              image = cv2.imread(path + '/' + img)\n",
        "              image_fromarray = Image.fromarray(image, 'RGB')\n",
        "              resize_image = image_fromarray.resize((IMG_HEIGHT, IMG_WIDTH))\n",
        "              image_data.append(np.array(resize_image))\n",
        "              image_labels.append(i)\n",
        "          except:\n",
        "              print(\"Error in \" + img)\n",
        "\n",
        "  # Changing the list to numpy array\n",
        "  image_data = np.array(image_data)\n",
        "  image_labels = np.array(image_labels)\n",
        "  np.save('/content/drive/MyDrive/Traffic_Sign_Recognition/data_traffic_sign/image_data',image_data)\n",
        "  np.save('/content/drive/MyDrive/Traffic_Sign_Recognition/data_traffic_sign/image_labels',image_labels)\n",
        "  print(image_data.shape, image_labels.shape)\n",
        "  return image_data, image_labels\n",
        "image_data, image_labels =  get_train_data(train_path)\n"
      ],
      "execution_count": 20,
      "outputs": [
        {
          "output_type": "stream",
          "name": "stdout",
          "text": [
            "Images from folder  0 processing\n",
            "Images from folder  1 processing\n",
            "Images from folder  2 processing\n",
            "Images from folder  3 processing\n",
            "Images from folder  4 processing\n",
            "Images from folder  5 processing\n",
            "Images from folder  6 processing\n",
            "Images from folder  7 processing\n",
            "Images from folder  8 processing\n",
            "Images from folder  9 processing\n",
            "Images from folder  10 processing\n",
            "Images from folder  11 processing\n",
            "Images from folder  12 processing\n",
            "Images from folder  13 processing\n",
            "Images from folder  14 processing\n",
            "Images from folder  15 processing\n",
            "Images from folder  16 processing\n",
            "Images from folder  17 processing\n",
            "Images from folder  18 processing\n",
            "Images from folder  19 processing\n",
            "Images from folder  20 processing\n",
            "Images from folder  21 processing\n",
            "Images from folder  22 processing\n",
            "Images from folder  23 processing\n",
            "Images from folder  24 processing\n",
            "Images from folder  25 processing\n",
            "Images from folder  26 processing\n",
            "Images from folder  27 processing\n",
            "Images from folder  28 processing\n",
            "Images from folder  29 processing\n",
            "Images from folder  30 processing\n",
            "Images from folder  31 processing\n",
            "Images from folder  32 processing\n",
            "Images from folder  33 processing\n",
            "Images from folder  34 processing\n",
            "Images from folder  35 processing\n",
            "Images from folder  36 processing\n",
            "Images from folder  37 processing\n",
            "Images from folder  38 processing\n",
            "Images from folder  39 processing\n",
            "Images from folder  40 processing\n",
            "Images from folder  41 processing\n",
            "Images from folder  42 processing\n",
            "(39251, 30, 30, 3) (39251,)\n",
            "CPU times: user 53.5 s, sys: 26.2 s, total: 1min 19s\n",
            "Wall time: 1h 44min 20s\n"
          ]
        }
      ]
    },
    {
      "cell_type": "code",
      "metadata": {
        "id": "e3TomOlGugXx"
      },
      "source": [
        ""
      ],
      "execution_count": null,
      "outputs": []
    }
  ]
}